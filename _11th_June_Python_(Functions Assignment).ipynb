{
 "cells": [
  {
   "cell_type": "markdown",
   "id": "3271bca7",
   "metadata": {},
   "source": [
    "**Q1.** A lambda function in Python is a small, anonymous, and inline function that is defined using the `lambda` keyword. Lambda functions are often referred to as \"anonymous functions\" because they don't have a name. They are typically used for short, simple operations that can be defined in a single line of code.\n",
    "\n",
    "Here's the basic syntax of a lambda function:"
   ]
  },
  {
   "cell_type": "code",
   "execution_count": 4,
   "id": "444bdc3b",
   "metadata": {},
   "outputs": [
    {
     "data": {
      "text/plain": [
       "<function __main__.<lambda>(arguments)>"
      ]
     },
     "execution_count": 4,
     "metadata": {},
     "output_type": "execute_result"
    }
   ],
   "source": [
    "lambda arguments: expression"
   ]
  },
  {
   "cell_type": "markdown",
   "id": "1974718c",
   "metadata": {},
   "source": [
    "- `arguments` are the input parameters to the function.\n",
    "- `expression` is the single expression or operation that the function performs.\n",
    "\n",
    "Lambda functions are typically used with higher-order functions like `map()`, `filter()`, and `sorted()` or in situations where you need a small, throwaway function without the need to define a separate named function.\n",
    "\n",
    "Here's an example of a lambda function that adds two numbers:"
   ]
  },
  {
   "cell_type": "code",
   "execution_count": 10,
   "id": "f71952d6",
   "metadata": {},
   "outputs": [
    {
     "name": "stdout",
     "output_type": "stream",
     "text": [
      "7\n"
     ]
    }
   ],
   "source": [
    "add = lambda x, y: x + y\n",
    "result = add(3, 4)\n",
    "print(result)\n"
   ]
  },
  {
   "cell_type": "markdown",
   "id": "735d72d9",
   "metadata": {},
   "source": [
    "Now, let's discuss the differences between lambda functions and regular (named) functions:\n",
    "\n",
    "1. **Name:** Lambda functions are anonymous; they don't have a name. Regular functions are defined using the `def` keyword and have a name."
   ]
  },
  {
   "cell_type": "code",
   "execution_count": 11,
   "id": "aad82208",
   "metadata": {},
   "outputs": [],
   "source": [
    "# Lambda function\n",
    "add = lambda x, y: x + y\n",
    "\n",
    "# Regular function\n",
    "def add(x, y):\n",
    "       return x + y"
   ]
  },
  {
   "cell_type": "markdown",
   "id": "a20cdf35",
   "metadata": {},
   "source": [
    "2. **Size and Complexity:** Lambda functions are typically small and limited to a single expression, whereas regular functions can be more extensive and include multiple statements.\n",
    "\n",
    "3. **Readability:** Regular functions with descriptive names are often more readable and self-explanatory in code compared to lambda functions, especially for complex operations.\n",
    "\n",
    "4. **Reuse:** Regular functions can be reused throughout your code by calling their name, while lambda functions are usually used in a single context or for a specific purpose.\n",
    "\n",
    "5. **Scope:** Lambda functions are often used in local scopes, while regular functions can have both local and global scope depending on where they are defined."
   ]
  },
  {
   "cell_type": "markdown",
   "id": "c2e61522",
   "metadata": {},
   "source": [
    "**Q2.** Yes, a lambda function in Python can have multiple arguments. You can define and use multiple arguments in a lambda function just like you do with a regular function. The syntax for a lambda function with multiple arguments is as follows:\n",
    "\n",
    "     lambda argument1, argument2, ... : expression.\n",
    "\n",
    "Here's an example of a lambda function with multiple arguments that calculates the sum of two numbers:"
   ]
  },
  {
   "cell_type": "code",
   "execution_count": 9,
   "id": "b32e5234",
   "metadata": {},
   "outputs": [
    {
     "name": "stdout",
     "output_type": "stream",
     "text": [
      "7\n"
     ]
    }
   ],
   "source": [
    "add = lambda x, y: x + y\n",
    "result = add(3, 4)\n",
    "print(result)"
   ]
  },
  {
   "cell_type": "markdown",
   "id": "7cbf2e92",
   "metadata": {},
   "source": [
    "In this example:\n",
    "\n",
    "- `lambda` is used to define the lambda function.\n",
    "- `x` and `y` are the two arguments.\n",
    "- `x + y` is the expression that calculates the sum of `x` and `y`.\n"
   ]
  },
  {
   "cell_type": "markdown",
   "id": "d42da156",
   "metadata": {},
   "source": [
    "You can use the lambda function `add` just like you would use a regular function with multiple arguments. When you call `add(3, 4)`, it calculates and returns the sum of 3 and 4, which is 7.\n",
    "\n",
    "You can define lambda functions with as many arguments as needed, separated by commas, and use them in various contexts, such as with `map()`, `filter()`, and other higher-order functions, or anywhere a small anonymous function is required."
   ]
  },
  {
   "cell_type": "markdown",
   "id": "625bee08",
   "metadata": {},
   "source": [
    "**Q3.** Lambda functions in Python are typically used for small, simple operations where a short, anonymous function is convenient. They are often employed in the following contexts:\n",
    "\n",
    "1. **Higher-Order Functions:** Lambda functions are commonly used as arguments for higher-order functions like `map()`, `filter()`, and `sorted()`. These functions expect a function as an argument, and lambda functions provide a concise way to define such functions on the fly.\n"
   ]
  },
  {
   "cell_type": "code",
   "execution_count": 12,
   "id": "95514dbd",
   "metadata": {},
   "outputs": [],
   "source": [
    " # Example: Using lambda with map to square a list of numbers\n",
    "numbers = [1, 2, 3, 4, 5]\n",
    "squared_numbers = list(map(lambda x: x**2, numbers))"
   ]
  },
  {
   "cell_type": "markdown",
   "id": "1856fc8e",
   "metadata": {},
   "source": [
    "2. **Sorting:** Lambda functions can be used as the `key` argument in the `sorted()` function to customize the sorting behavior based on specific criteria."
   ]
  },
  {
   "cell_type": "code",
   "execution_count": 14,
   "id": "1bd63b34",
   "metadata": {},
   "outputs": [],
   "source": [
    "# Example: Sorting a list of tuples by the second element\n",
    "data = [(1, 5), (3, 2), (2, 8), (4, 1)]\n",
    "sorted_data = sorted(data, key=lambda x: x[1])"
   ]
  },
  {
   "cell_type": "markdown",
   "id": "5635409d",
   "metadata": {},
   "source": [
    "3. **Filtering:** Lambda functions are useful with the `filter()` function to filter elements from a collection based on a condition."
   ]
  },
  {
   "cell_type": "code",
   "execution_count": 15,
   "id": "ab2a7a2e",
   "metadata": {},
   "outputs": [],
   "source": [
    "# Example: Filtering even numbers from a list\n",
    "numbers = [1, 2, 3, 4, 5, 6, 7, 8, 9]\n",
    "even_numbers = list(filter(lambda x: x % 2 == 0, numbers))"
   ]
  },
  {
   "cell_type": "markdown",
   "id": "a6a226a0",
   "metadata": {},
   "source": [
    "4. **Simple Mathematical Operations:** For quick calculations or mathematical transformations, lambda functions provide a concise way to define custom operations."
   ]
  },
  {
   "cell_type": "code",
   "execution_count": 19,
   "id": "dd9451b9",
   "metadata": {},
   "outputs": [],
   "source": [
    "# Example: Lambda for finding the square root of a number\n",
    "square_root = lambda x: x**0.5\n",
    "result = square_root(25)  # Returns 5.0"
   ]
  },
  {
   "cell_type": "markdown",
   "id": "b93d2a90",
   "metadata": {},
   "source": [
    "5. **Custom Sorting:** When working with custom objects or data structures, lambda functions can help define custom sorting criteria."
   ]
  },
  {
   "cell_type": "code",
   "execution_count": 22,
   "id": "22a82e3c",
   "metadata": {},
   "outputs": [],
   "source": [
    "# Example: Sorting a list of custom objects by a specific attribute\n",
    "class Person:\n",
    "    def __init__(self, name, age):\n",
    "        self.name = name\n",
    "        self.age = age\n",
    "people = [Person(\"Alice\", 30), Person(\"Bob\", 25), Person(\"Carol\", 35)]\n",
    "sorted_people = sorted(people, key=lambda person: person.age)"
   ]
  },
  {
   "cell_type": "markdown",
   "id": "b3ae5e36",
   "metadata": {},
   "source": [
    "Lambda functions are handy when you need to create short, throwaway functions for simple operations. However, for more complex operations or functions that are reused frequently, it's often better to use regular named functions to improve code readability and maintainability."
   ]
  },
  {
   "cell_type": "markdown",
   "id": "7cf30b75",
   "metadata": {},
   "source": [
    "**Q4.** Lambda functions in Python offer several advantages, but they also come with limitations when compared to regular (named) functions. Here are the advantages and limitations of lambda functions:\n",
    "\n",
    "**Advantages:**\n",
    "\n",
    "1. **Conciseness:** Lambda functions are concise and allow you to define small, simple functions in a single line of code. This can make code more compact and easier to read for short operations.\n",
    "\n",
    "2. **Anonymous:** Lambda functions are anonymous, meaning they don't require a separate name. This is useful for functions that are used only once or in a limited scope, reducing clutter in your code.\n",
    "\n",
    "3. **Functional Programming:** Lambda functions are commonly used in functional programming paradigms with higher-order functions like `map()`, `filter()`, and `sorted()`. They fit well with the functional programming style.\n",
    "\n",
    "4. **Inline Usage:** Lambda functions can be used inline as arguments to other functions or within expressions, making them convenient for on-the-fly operations.\n",
    "\n",
    "**Limitations:**\n",
    "\n",
    "1. **Limited Complexity:** Lambda functions are limited to a single expression and cannot contain multiple statements or complex logic. This restricts their use for more extensive operations.\n",
    "\n",
    "2. **Reduced Readability:** While lambda functions are concise, they can become less readable for complex operations. Using regular named functions with descriptive names is often more readable and self-explanatory.\n",
    "\n",
    "3. **Limited Reusability:** Lambda functions are typically used for specific, one-off tasks and may not be suitable for reuse across multiple parts of your code. Regular functions are better for reusable code.\n",
    "\n",
    "4. **Debugging:** Debugging lambda functions can be more challenging because they lack a meaningful name and traceback information.\n",
    "\n",
    "5. **No Documentation String (Docstring):** Lambda functions cannot have docstrings, which are useful for documenting the purpose and usage of functions.\n",
    "\n",
    "6. **Limited Scope:** Lambda functions are often used in local scopes and may not be accessible globally, which can be a limitation depending on the context.\n",
    "\n",
    "In summary, lambda functions are useful for small, simple operations and for cases where you need a short, throwaway function. However, for more complex or reusable functions, regular named functions are generally preferred due to their readability, reusability, and ease of debugging. It's essential to choose the appropriate tool (lambda or regular function) based on the specific requirements and complexity of the task at hand."
   ]
  },
  {
   "cell_type": "markdown",
   "id": "f32e86d6",
   "metadata": {},
   "source": [
    "**Q5.** Yes, lambda functions in Python can access variables defined outside of their own scope. They can access and use variables from the surrounding scope in which they are defined. This behavior is known as \"lexical scoping\" or \"closure.\" Lambda functions \"capture\" variables from their containing scope.\n",
    "\n",
    "Here's an example to illustrate how lambda functions can access variables from their enclosing scope:"
   ]
  },
  {
   "cell_type": "code",
   "execution_count": 23,
   "id": "5bb60b2b",
   "metadata": {},
   "outputs": [
    {
     "name": "stdout",
     "output_type": "stream",
     "text": [
      "15\n"
     ]
    }
   ],
   "source": [
    "def outer_function():\n",
    "    x = 10\n",
    "\n",
    "    # Define a lambda function that uses the variable x\n",
    "    lambda_function = lambda y: x + y\n",
    "\n",
    "    return lambda_function\n",
    "\n",
    "# Call the outer function to get the lambda function\n",
    "function_with_closure = outer_function()\n",
    "\n",
    "# Now, we can use the lambda function with the captured variable x\n",
    "result = function_with_closure(5)\n",
    "print(result)"
   ]
  },
  {
   "cell_type": "markdown",
   "id": "a413b1bb",
   "metadata": {},
   "source": [
    "In this example:\n",
    "\n",
    "1. `outer_function` defines a variable `x` with a value of `10`.\n",
    "\n",
    "2. Inside `outer_function`, a lambda function `lambda_function` is defined, which takes an argument `y` and adds it to the captured variable `x`.\n",
    "\n",
    "3. `outer_function` returns the lambda function.\n",
    "\n",
    "4. When we call `outer_function()`, it returns the lambda function, which still has access to the variable `x` from the enclosing scope.\n",
    "\n",
    "5. We can then call `function_with_closure(5)` to use the lambda function with the captured `x` variable. It correctly adds 5 to `x`, resulting in a value of 15.\n",
    "\n",
    "Lambda functions can capture and use variables from the surrounding scope at the time of their definition. This makes them useful for creating functions with context-specific behavior, such as callbacks or custom sorting criteria, by using variables from the enclosing context."
   ]
  },
  {
   "cell_type": "markdown",
   "id": "2f1a8de9",
   "metadata": {},
   "source": [
    "**Q6.** The Code is given below:"
   ]
  },
  {
   "cell_type": "code",
   "execution_count": 24,
   "id": "20cd2978",
   "metadata": {},
   "outputs": [
    {
     "data": {
      "text/plain": [
       "25"
      ]
     },
     "execution_count": 24,
     "metadata": {},
     "output_type": "execute_result"
    }
   ],
   "source": [
    "square=lambda x : x**2\n",
    "square(5)"
   ]
  },
  {
   "cell_type": "markdown",
   "id": "905e7a09",
   "metadata": {},
   "source": [
    "**Q7.** The Code is given below:"
   ]
  },
  {
   "cell_type": "code",
   "execution_count": 27,
   "id": "937ccfec",
   "metadata": {},
   "outputs": [
    {
     "data": {
      "text/plain": [
       "56"
      ]
     },
     "execution_count": 27,
     "metadata": {},
     "output_type": "execute_result"
    }
   ],
   "source": [
    "maximum= lambda x: max(x) \n",
    "maximum([4,9,-9,56])"
   ]
  },
  {
   "cell_type": "markdown",
   "id": "085de0d2",
   "metadata": {},
   "source": [
    "**Q8.** The Code is given below:"
   ]
  },
  {
   "cell_type": "code",
   "execution_count": 28,
   "id": "fdf67e1b",
   "metadata": {},
   "outputs": [
    {
     "name": "stdout",
     "output_type": "stream",
     "text": [
      "[56, 46, 12, 48]\n"
     ]
    }
   ],
   "source": [
    "numbers=[56,87,23,46,12,48,65]\n",
    "even=list(filter(lambda x: x%2==0, numbers))\n",
    "print(even)"
   ]
  },
  {
   "cell_type": "markdown",
   "id": "fde7657e",
   "metadata": {},
   "source": [
    "**Q9.** The Code is given below:"
   ]
  },
  {
   "cell_type": "code",
   "execution_count": 30,
   "id": "0c264359",
   "metadata": {},
   "outputs": [
    {
     "name": "stdout",
     "output_type": "stream",
     "text": [
      "['fig', 'date', 'apple', 'banana', 'cherry']\n"
     ]
    }
   ],
   "source": [
    "strings = [\"apple\", \"banana\", \"cherry\", \"date\", \"fig\"]\n",
    "sorted_strings = sorted(strings, key=lambda x: len(x), reverse=False)\n",
    "print(sorted_strings)"
   ]
  },
  {
   "cell_type": "markdown",
   "id": "2c845105",
   "metadata": {},
   "source": [
    "**Q10.** The Code is given below:"
   ]
  },
  {
   "cell_type": "code",
   "execution_count": 31,
   "id": "e65a7079",
   "metadata": {},
   "outputs": [
    {
     "name": "stdout",
     "output_type": "stream",
     "text": [
      "[3, 4, 5]\n"
     ]
    }
   ],
   "source": [
    "list1 = [1, 2, 3, 4, 5]\n",
    "list2 = [3, 4, 5, 6, 7]\n",
    "\n",
    "find_common = lambda lst1, lst2: list(filter(lambda x: x in lst1, lst2))\n",
    "\n",
    "common_elements = find_common(list1, list2)\n",
    "\n",
    "print(common_elements)"
   ]
  },
  {
   "cell_type": "markdown",
   "id": "1112a914",
   "metadata": {},
   "source": [
    "**Q11.** The Code is given below:"
   ]
  },
  {
   "cell_type": "code",
   "execution_count": 33,
   "id": "75fef3b4",
   "metadata": {},
   "outputs": [
    {
     "name": "stdout",
     "output_type": "stream",
     "text": [
      "120\n"
     ]
    }
   ],
   "source": [
    "def factorial(n):\n",
    "    if n==1:\n",
    "        return 1\n",
    "    else:\n",
    "        factor= n*factorial(n-1)\n",
    "        return factor\n",
    "print(factorial(5))"
   ]
  },
  {
   "cell_type": "markdown",
   "id": "c929af55",
   "metadata": {},
   "source": [
    "**Q12.** The Code is given below:"
   ]
  },
  {
   "cell_type": "code",
   "execution_count": 34,
   "id": "d0816416",
   "metadata": {},
   "outputs": [
    {
     "name": "stdout",
     "output_type": "stream",
     "text": [
      "5\n"
     ]
    }
   ],
   "source": [
    "def fib_num(n):\n",
    "    if n==1:\n",
    "        return 0\n",
    "    elif n==2:\n",
    "        return 1\n",
    "    elif n==3:\n",
    "        return 1\n",
    "    else:\n",
    "        result=fib_num(n-1) +fib_num(n-2)\n",
    "        return result\n",
    "\n",
    "print(fib_num(6))"
   ]
  },
  {
   "cell_type": "markdown",
   "id": "88331137",
   "metadata": {},
   "source": [
    "**Q13.** The Code is given below:"
   ]
  },
  {
   "cell_type": "code",
   "execution_count": 35,
   "id": "5b73d494",
   "metadata": {},
   "outputs": [
    {
     "name": "stdout",
     "output_type": "stream",
     "text": [
      "15\n"
     ]
    }
   ],
   "source": [
    "def recursive_sum(lst):\n",
    "    if not lst:\n",
    "        return 0\n",
    "    else:\n",
    "        return lst[0] + recursive_sum(lst[1:])\n",
    "numbers = [1, 2, 3, 4, 5]\n",
    "result = recursive_sum(numbers)\n",
    "print(result)"
   ]
  },
  {
   "cell_type": "markdown",
   "id": "788c4107",
   "metadata": {},
   "source": [
    "**Q14.** The Code is given below:"
   ]
  },
  {
   "cell_type": "code",
   "execution_count": 36,
   "id": "aaafa745",
   "metadata": {},
   "outputs": [
    {
     "name": "stdout",
     "output_type": "stream",
     "text": [
      "True\n",
      "False\n"
     ]
    }
   ],
   "source": [
    "def is_palindrome(s):\n",
    "    # Base case: If the string is empty or has only one character, it's a palindrome.\n",
    "    if len(s) <= 1:\n",
    "        return True\n",
    "    \n",
    "    # Check if the first and last characters are the same.\n",
    "    if s[0] != s[-1]:\n",
    "        return False\n",
    "    \n",
    "    # Recursively check the substring without the first and last characters.\n",
    "    return is_palindrome(s[1:-1])\n",
    "\n",
    "# Example usage\n",
    "string1 = \"racecar\"\n",
    "string2 = \"hello\"\n",
    "\n",
    "print(is_palindrome(string1))\n",
    "print(is_palindrome(string2))  "
   ]
  },
  {
   "cell_type": "markdown",
   "id": "673b6b8c",
   "metadata": {},
   "source": [
    "**Q15.** The Code is given below:(using the property that the GCD of two numbers `a` and `b` is the same as the GCD of `b` and `a % b`.)"
   ]
  },
  {
   "cell_type": "code",
   "execution_count": 38,
   "id": "2228544b",
   "metadata": {},
   "outputs": [
    {
     "name": "stdout",
     "output_type": "stream",
     "text": [
      "7\n"
     ]
    }
   ],
   "source": [
    "def gcd_recursive(a, b):\n",
    "    if b == 0:\n",
    "        return a\n",
    "    else:\n",
    "        return gcd_recursive(b, a % b)\n",
    "num1 = 56\n",
    "num2 = 21\n",
    "\n",
    "result = gcd_recursive(num1, num2)\n",
    "print(result)"
   ]
  },
  {
   "cell_type": "code",
   "execution_count": null,
   "id": "c2516050",
   "metadata": {},
   "outputs": [],
   "source": []
  }
 ],
 "metadata": {
  "kernelspec": {
   "display_name": "Python 3 (ipykernel)",
   "language": "python",
   "name": "python3"
  },
  "language_info": {
   "codemirror_mode": {
    "name": "ipython",
    "version": 3
   },
   "file_extension": ".py",
   "mimetype": "text/x-python",
   "name": "python",
   "nbconvert_exporter": "python",
   "pygments_lexer": "ipython3",
   "version": "3.11.3"
  }
 },
 "nbformat": 4,
 "nbformat_minor": 5
}
